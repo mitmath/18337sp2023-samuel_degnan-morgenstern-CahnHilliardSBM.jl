{
 "cells": [
  {
   "cell_type": "code",
   "execution_count": 1,
   "metadata": {},
   "outputs": [],
   "source": [
    "using DifferentialEquations, LinearAlgebra, SparseArrays,Sundials,CUDA,PreallocationTools,SciMLSensitivity,LinearSolve\n",
    "using SparseDiffTools,Symbolics\n",
    "using BenchmarkTools\n",
    "using DelimitedFiles\n",
    "using Plots,Statistics,StatsPlots"
   ]
  },
  {
   "cell_type": "code",
   "execution_count": 2,
   "metadata": {},
   "outputs": [
    {
     "data": {
      "text/plain": [
       "GCH_2D_mask_full! (generic function with 1 method)"
      ]
     },
     "metadata": {},
     "output_type": "display_data"
    }
   ],
   "source": [
    "function GCH_2D_mask_full!(dc,c,p,t,dx,dy,Nx,Ny,Ψ )\n",
    "    D, κ, Ω= p\n",
    "    ψ = @view Ψ[:,:]\n",
    "    @inline function ∇2c(ix,iy)\n",
    "        left = ix > 1 ? c[ix-1,iy] : c[ix+1,iy]\n",
    "        right = ix < Nx ? c[ix+1,iy] : c[ix-1,iy]\n",
    "        bottom = iy > 1 ? c[ix,iy-1] : c[ix,iy+1]\n",
    "        top = (iy < Ny ? c[ix,iy+1] : c[ix,iy-1])\n",
    "        return ((right + left - 2.0*c[ix,iy])/dx^2 + (top + bottom - 2.0*c[ix,iy])/dy^2)\n",
    "    end\n",
    "    @inline function ∇ψ∇c(ix,iy)\n",
    "        ψleft = ix > 1 ? ψ[ix-1,iy] : ψ[ix+1,iy]\n",
    "        ψright = ix < Nx ? ψ[ix+1,iy] : ψ[ix-1,iy]\n",
    "        ψbottom = iy > 1 ? ψ[ix,iy-1] : ψ[ix,iy+1]\n",
    "        ψtop = iy < Ny ? ψ[ix,iy+1] : ψ[ix,iy-1]\n",
    "\n",
    "        cleft = ix > 1 ? c[ix-1,iy] : c[ix+1,iy]\n",
    "        cright = ix < Nx ? c[ix+1,iy] : c[ix-1,iy]\n",
    "        cbottom = iy > 1 ? c[ix,iy-1] : c[ix,iy+1]\n",
    "        ctop = iy < Ny ? c[ix,iy+1] : c[ix,iy-1]\n",
    "\n",
    "        return ((ψleft-ψright)/(2*dx))*((cleft-cright)/(2*dx)) + ((ψtop-ψbottom)/(2*dx))*((ctop-cbottom)/(2*dy))\n",
    "    end\n",
    "    @inline function μₕ(ix,iy)\n",
    "        return log(max(1e-10,c[ix,iy]/(1-c[ix,iy]))) + Ω*(1.0-2.0*c[ix,iy])\n",
    "    end\n",
    "    @inline function μ(ix,iy)\n",
    "        return μₕ(ix,iy) - κ*(∇ψ∇c(ix,iy)/ψ[ix,iy] + ∇2c(ix,iy))\n",
    "    end\n",
    "    @inline function ∇ψ∇μ(ix,iy)\n",
    "        ψleft = ix > 1 ? ψ[ix-1,iy] : ψ[ix+1,iy]\n",
    "        ψright = ix < Nx ? ψ[ix+1,iy] : ψ[ix-1,iy]\n",
    "        ψbottom = iy > 1 ? ψ[ix,iy-1] : ψ[ix,iy+1]\n",
    "        ψtop = iy < Ny ? ψ[ix,iy+1] : ψ[ix,iy-1]\n",
    "\n",
    "        μleft = ix > 1 ? μ(ix-1,iy) : μ(ix+1,iy)\n",
    "        μright = ix < Nx ? μ(ix+1,iy) : μ(ix-1,iy)\n",
    "        μbottom = iy > 1 ? μ(ix,iy-1) : μ(ix,iy+1)\n",
    "        μtop = iy < Ny ? μ(ix,iy+1) : μ(ix,iy-1)\n",
    "\n",
    "        return ((ψleft-ψright)/(2*dx))*((μleft-μright)/(2*dx)) + ((ψtop-ψbottom)/(2*dx))*((μtop-μbottom)/(2*dy))\n",
    "    end\n",
    "    @inline function ∇c∇μ(ix,iy)\n",
    "        cleft = ix > 1 ? c[ix-1,iy] : c[ix+1,iy]\n",
    "        cright = ix < Nx ? c[ix+1,iy] : c[ix-1,iy]\n",
    "        cbottom = iy > 1 ? c[ix,iy-1] : c[ix,iy+1]\n",
    "        ctop = iy < Ny ? c[ix,iy+1] : c[ix,iy-1]\n",
    "\n",
    "        μleft = ix > 1 ? μ(ix-1,iy) : μ(ix+1,iy)\n",
    "        μright = ix < Nx ? μ(ix+1,iy) : μ(ix-1,iy)\n",
    "        μbottom = iy > 1 ? μ(ix,iy-1) : μ(ix,iy+1)\n",
    "        μtop = iy < Ny ? μ(ix,iy+1) : μ(ix,iy-1)\n",
    "\n",
    "        return ((cleft-cright)/(2*dx))*((μleft-μright)/(2*dx)) + ((ctop-cbottom)/(2*dx))*((μtop-μbottom)/(2*dy))\n",
    "    end\n",
    "    @inline function ∇2μ(ix,iy)\n",
    "        left = ix > 1 ? μ(ix-1,iy) : μ(ix+1,iy)\n",
    "        right = ix < Nx ? μ(ix+1,iy) : μ(ix-1,iy)\n",
    "        bottom = iy > 1 ? μ(ix,iy-1) : μ(ix,iy+1)\n",
    "        top = iy < Ny ? μ(ix,iy+1) : μ(ix,iy-1)\n",
    "        return ((right + left - 2.0*μ(ix,iy))/dx^2 + (top + bottom - 2.0*μ(ix,iy))/dy^2)\n",
    "    end\n",
    "    @inline function getD(ix::Int,iy::Int)\n",
    "        return D*(1.0-c[ix,iy])*c[ix,iy];\n",
    "    end\n",
    "    @inline function ∂D∂c(ix,iy)\n",
    "        return D*(1.0-2*c[ix,iy]);\n",
    "    end\n",
    "    @inline function normψ(ix,iy)\n",
    "        if ((ix > 1) && (ix < Nx)) && ((iy > 1) && (iy < Ny))\n",
    "            return sqrt(((c[ix+1,iy]-c[ix-1,iy])/(2*dx))^2 + ((c[ix,iy+1]-c[ix,iy-1])/(2*dx))^2)\n",
    "        else\n",
    "            return 0.0\n",
    "        end\n",
    "    end\n",
    "    @inbounds @views for I in CartesianIndices((Nx, Ny))\n",
    "        ix, iy = Tuple(I);\n",
    "        dc[ix,iy]=(getD(ix,iy)/ψ[ix,iy])*∇ψ∇μ(ix,iy)+ ∂D∂c(ix,iy)*∇c∇μ(ix,iy) + getD(ix,iy)*∇2μ(ix,iy)\n",
    "    end\n",
    "    return nothing\n",
    "end"
   ]
  },
  {
   "cell_type": "code",
   "execution_count": 3,
   "metadata": {},
   "outputs": [
    {
     "data": {
      "text/plain": [
       "GCH_2D_mul_slow (generic function with 1 method)"
      ]
     },
     "metadata": {},
     "output_type": "display_data"
    }
   ],
   "source": [
    "function GCH_2D_mul_slow(du,u,p,t,ψ,∇ψ_x,∇ψ_y,∇x,∇y,∇2x,∇2y)\n",
    "    c = @view u[:,:]\n",
    "    dc = @view du[:,:]\n",
    "    p=D, κ, Ω\n",
    "    \n",
    "    # Compute ∇c\n",
    "    ∇c_x = ∇x * c # Compute (∇c)ₓ = ∇x*c\n",
    "    ∇c_y = c * ∇y # Compute (∇c)_y = c*∇y\n",
    "\n",
    "    # Compute ∇2c\n",
    "    ∇2c = ∇2x * c + c * ∇2y # Compute (∇2c)\n",
    "\n",
    "    μ = log.(max.(1e-10, c ./ (1.0 .- c))) .+ Ω.*(1.0 .- 2.0.*c) .- κ.*((∇c_x .* ∇ψ_x .+ ∇c_y .* ∇ψ_y)./ψ .+ ∇2c)\n",
    "    # Compute ∇2μ\n",
    "    ∇2μ = ∇2x * μ + μ * ∇2y# Compute (∇2μ)\n",
    "\n",
    "    # Compute ∇μ\n",
    "    ∇μ_x = ∇x * μ # Compute (∇μ)ₓ = ∇x*μ\n",
    "    ∇μ_y = μ * ∇y # Compute (∇μ)_y = μ*∇y\n",
    "\n",
    "    dc = D .* (c .* (1.0 .- c) .* ((∇ψ_x .* ∇μ_x .+ ∇ψ_y .* ∇μ_y) ./ ψ .+ ∇2μ) .+ (1.0 .- 2.0 .* c) .* (∇c_x .* ∇μ_x .+ ∇c_y .* ∇μ_y))\n",
    "    return nothing\n",
    "end"
   ]
  },
  {
   "cell_type": "code",
   "execution_count": 4,
   "metadata": {},
   "outputs": [
    {
     "data": {
      "text/plain": [
       "GCH_2D_mul_full (generic function with 1 method)"
      ]
     },
     "metadata": {},
     "output_type": "display_data"
    }
   ],
   "source": [
    "function GCH_2D_mul_full(du, u, p, t,ψ,∇x,∇y,∇2x,∇2y,∇ψ_x,∇ψ_y,∇c_x,∇c_y,∇2c,μ,∇2μ,∇μ_x,∇μ_y)\n",
    "    D, κ, Ω=p\n",
    "    c = @view u[:,:]\n",
    "    dc = @view du[:,:]\n",
    "    \n",
    "    #Set up caches from DiffCache\n",
    "    ∇c_x_t = get_tmp(∇c_x,u)\n",
    "    ∇c_y_t = get_tmp(∇c_y,u)\n",
    "    ∇2c_t = get_tmp(∇2c,u)\n",
    "    μ_t = get_tmp(μ,u)\n",
    "    ∇2μ_t = get_tmp(∇2μ,u)\n",
    "    ∇μ_x_t = get_tmp(∇μ_x,u)\n",
    "    ∇μ_y_t = get_tmp(∇μ_y,u)\n",
    "    \n",
    "    #Compute ∇c\n",
    "    mul!(∇c_x_t,∇x,c) # Compute (∇c)ₓ = ∇x*c\n",
    "    mul!(∇c_y_t,c,∇y) # Compute (∇c)_y = c*∇y\n",
    "    \n",
    "    #Compute ∇2c\n",
    "    mul!(∇2c_t,∇2x,c) # Compute (∇2c)ₓ = c*∇2x\n",
    "    mul!(∇2c_t,c,∇2y,1.0,1.0) #∇2c = 1*(∇2c)ₓ + 1*(∇2y)*c\n",
    "\n",
    "    @. μ_t = log(max(1e-10,c./(1.0 - c)))+ Ω*(1.0 - 2.0*c) .- κ*((∇c_x_t*∇ψ_x  + ∇c_y_t*∇ψ_y)./ψ + ∇2c_t);\n",
    "\n",
    "    #Compute ∇2μ\n",
    "    mul!(∇2μ_t,∇2x,μ_t) # Compute (∇2μ)ₓ = μ*∇2x\n",
    "    mul!(∇2μ_t,μ_t,∇2y,1.0,1.0) #∇2μ = 1*(∇2μ)ₓ + 1*(∇2y)*μ\n",
    "    #Compute ∇μ\n",
    "    mul!(∇μ_x_t,∇x,μ_t) # Compute (∇μ)ₓ = ∇x*μ\n",
    "    mul!(∇μ_y_t,μ_t,∇y) # Compute (∇μ)_y = μ*∇y\n",
    "    @. dc = D*(c*(1.0-c)*((∇ψ_x*∇μ_x_t + ∇ψ_y*∇μ_y_t)./ψ + ∇2μ_t) + (1.0-2.0*c)*(∇c_x_t*∇μ_x_t + ∇c_y_t*∇μ_y_t))\n",
    "    return nothing\n",
    "end"
   ]
  },
  {
   "cell_type": "code",
   "execution_count": 5,
   "metadata": {},
   "outputs": [],
   "source": [
    "ψ = readdlm(\"psi.csv\")\n",
    "ψ_binary = readdlm(\"psi_b.csv\")\n",
    "ψ = ψ[end:-1:1, :]\n",
    "ψ_binary = ψ_binary[end:-1:1, :]\n",
    "Nx, Ny = size(ψ)\n",
    "x = LinRange(0.0, 1, Nx)\n",
    "y = LinRange(0.0, 1, Ny)\n",
    "dx = x[2] - x[1]\n",
    "dy = y[2] - y[1]\n",
    "\n",
    "D = 0.1\n",
    "κ = 0.001\n",
    "Ω = 3.0\n",
    "p = D, κ, Ω\n",
    "\n",
    "c0 = readdlm(\"goodc0.csv\")\n",
    "\n",
    "tspan = (0.0, 5)\n",
    "dc0 = similar(c0);"
   ]
  },
  {
   "cell_type": "code",
   "execution_count": 6,
   "metadata": {},
   "outputs": [],
   "source": [
    "∇2x = Tridiagonal([1.0 for i in 1:Nx-1],[-2.0 for i in 1:Nx],[1.0 for i in 1:Nx-1])\n",
    "∇2x[1,2] = 2.0\n",
    "∇2x[end,end-1] = 2.0\n",
    "∇2y= deepcopy(∇2x)\n",
    "∇2y = ∇2y'\n",
    "\n",
    "∇x= Tridiagonal([-1.0 for i in 1:Nx-1],[0.0 for i in 1:Nx],[1.0 for i in 1:Nx-1]);\n",
    "∇x[1,2]=0.0\n",
    "∇x[end,end-1]=0.0\n",
    "\n",
    "∇y= Tridiagonal([-1.0 for i in 1:Ny-1],[0.0 for i in 1:Ny],[1.0 for i in 1:Ny-1]);\n",
    "∇y[1,2]=0.0\n",
    "∇y[end,end-1]=0.0\n",
    "∇y =∇y'\n",
    "\n",
    "\n",
    "∇2x ./= dx^2;\n",
    "∇2y ./= dy^2;\n",
    "∇x ./= 2*dx;\n",
    "∇y ./= 2*dy;\n",
    "\n",
    "\n",
    "∇ψ_x = ∇x*ψ \n",
    "∇ψ_y = ψ*∇y\n",
    "\n",
    "\n",
    "∇c_x=zeros(Nx,Ny);\n",
    "∇c_y=zeros(Nx,Ny);\n",
    "∇2c=zeros(Nx,Ny);\n",
    "μ = zeros(Nx,Ny);\n",
    "∇2μ=zeros(Nx,Ny);\n",
    "∇μ_x=zeros(Nx,Ny);\n",
    "∇μ_y=zeros(Nx,Ny);\n",
    "\n",
    "chunk_size = 25;\n",
    "\n",
    "∇c_x_c= DiffCache(∇c_x,chunk_size);\n",
    "∇c_y_c = DiffCache(∇c_y,chunk_size);\n",
    "∇2c_c = DiffCache(∇2c,chunk_size);\n",
    "μ_c = DiffCache(μ,chunk_size);\n",
    "∇2μ_c = DiffCache(∇2μ,chunk_size);\n",
    "∇μ_x_c = DiffCache(∇μ_x,chunk_size);\n",
    "∇μ_y_c = DiffCache(∇μ_y,chunk_size);"
   ]
  },
  {
   "cell_type": "code",
   "execution_count": 7,
   "metadata": {},
   "outputs": [
    {
     "data": {
      "text/plain": [
       "GCH_2D_mul_slow! (generic function with 1 method)"
      ]
     },
     "metadata": {},
     "output_type": "display_data"
    }
   ],
   "source": [
    "GCH_2D_mul_cache!(du,u,p,t) = GCH_2D_mul_full(du, u, p, t,ψ,∇x,∇y,∇2x,∇2y,∇ψ_x,∇ψ_y,∇c_x_c,∇c_y_c,∇2c_c,μ_c,∇2μ_c,∇μ_x_c,∇μ_y_c)\n",
    "GCH_2D_element!(du,u,p,t) = GCH_2D_mask_full!(du,u,p,t,dx,dy,Nx,Ny,ψ)\n",
    "GCH_2D_mul_slow!(du,u,p,t) = GCH_2D_mul_slow(du,u,p,t,ψ,∇ψ_x,∇ψ_y,∇x,∇y,∇2x,∇2y)"
   ]
  },
  {
   "cell_type": "code",
   "execution_count": 8,
   "metadata": {},
   "outputs": [
    {
     "data": {
      "text/plain": [
       "BenchmarkTools.Trial: 10000 samples with 1 evaluation.\n",
       " Range \u001b[90m(\u001b[39m\u001b[36m\u001b[1mmin\u001b[22m\u001b[39m … \u001b[35mmax\u001b[39m\u001b[90m):  \u001b[39m\u001b[36m\u001b[1m29.200 μs\u001b[22m\u001b[39m … \u001b[35m 21.059 ms\u001b[39m  \u001b[90m┊\u001b[39m GC \u001b[90m(\u001b[39mmin … max\u001b[90m): \u001b[39m 0.00% … 99.38%\n",
       " Time  \u001b[90m(\u001b[39m\u001b[34m\u001b[1mmedian\u001b[22m\u001b[39m\u001b[90m):     \u001b[39m\u001b[34m\u001b[1m46.800 μs               \u001b[22m\u001b[39m\u001b[90m┊\u001b[39m GC \u001b[90m(\u001b[39mmedian\u001b[90m):    \u001b[39m 0.00%\n",
       " Time  \u001b[90m(\u001b[39m\u001b[32m\u001b[1mmean\u001b[22m\u001b[39m ± \u001b[32mσ\u001b[39m\u001b[90m):   \u001b[39m\u001b[32m\u001b[1m54.407 μs\u001b[22m\u001b[39m ± \u001b[32m306.610 μs\u001b[39m  \u001b[90m┊\u001b[39m GC \u001b[90m(\u001b[39mmean ± σ\u001b[90m):  \u001b[39m10.91% ±  1.98%\n",
       "\n",
       "  \u001b[39m \u001b[39m█\u001b[39m█\u001b[39m \u001b[39m▃\u001b[39m▅\u001b[39m▁\u001b[39m \u001b[39m \u001b[39m \u001b[39m \u001b[39m \u001b[39m \u001b[39m \u001b[39m \u001b[34m▁\u001b[39m\u001b[39m \u001b[39m \u001b[39m \u001b[39m \u001b[39m \u001b[32m \u001b[39m\u001b[39m \u001b[39m \u001b[39m \u001b[39m \u001b[39m \u001b[39m▁\u001b[39m▁\u001b[39m \u001b[39m \u001b[39m \u001b[39m \u001b[39m \u001b[39m \u001b[39m \u001b[39m \u001b[39m \u001b[39m \u001b[39m \u001b[39m \u001b[39m \u001b[39m \u001b[39m \u001b[39m \u001b[39m \u001b[39m \u001b[39m \u001b[39m \u001b[39m \u001b[39m \u001b[39m \u001b[39m \u001b[39m \u001b[39m \u001b[39m \u001b[39m \u001b[39m \u001b[39m \u001b[39m \u001b[39m \u001b[39m \n",
       "  \u001b[39m▄\u001b[39m█\u001b[39m█\u001b[39m▆\u001b[39m█\u001b[39m█\u001b[39m█\u001b[39m▅\u001b[39m▂\u001b[39m▂\u001b[39m▁\u001b[39m▁\u001b[39m▁\u001b[39m▂\u001b[39m▅\u001b[34m█\u001b[39m\u001b[39m▇\u001b[39m▅\u001b[39m▂\u001b[39m▂\u001b[39m▂\u001b[32m▂\u001b[39m\u001b[39m▁\u001b[39m▁\u001b[39m▂\u001b[39m▃\u001b[39m▆\u001b[39m█\u001b[39m█\u001b[39m█\u001b[39m▆\u001b[39m▄\u001b[39m▃\u001b[39m▂\u001b[39m▂\u001b[39m▂\u001b[39m▂\u001b[39m▁\u001b[39m▂\u001b[39m▁\u001b[39m▁\u001b[39m▁\u001b[39m▁\u001b[39m▁\u001b[39m▂\u001b[39m▁\u001b[39m▂\u001b[39m▁\u001b[39m▁\u001b[39m▁\u001b[39m▁\u001b[39m▁\u001b[39m▁\u001b[39m▁\u001b[39m▁\u001b[39m▁\u001b[39m▁\u001b[39m▁\u001b[39m▁\u001b[39m▁\u001b[39m \u001b[39m▃\n",
       "  29.2 μs\u001b[90m         Histogram: frequency by time\u001b[39m          101 μs \u001b[0m\u001b[1m<\u001b[22m\n",
       "\n",
       " Memory estimate\u001b[90m: \u001b[39m\u001b[33m155.06 KiB\u001b[39m, allocs estimate\u001b[90m: \u001b[39m\u001b[33m51\u001b[39m."
      ]
     },
     "metadata": {},
     "output_type": "display_data"
    }
   ],
   "source": [
    "RHS_mul_cache= @benchmark GCH_2D_mul_cache!($dc0,$c0,$p,0.0)\n",
    "RHS_mul_alloc= @benchmark GCH_2D_element!($dc0,$c0,$p,0.0)\n",
    "RHS_elementwise= @benchmark GCH_2D_mul_slow!($dc0,$c0,$p,0.0)"
   ]
  },
  {
   "cell_type": "code",
   "execution_count": 53,
   "metadata": {},
   "outputs": [
    {
     "data": {
      "text/plain": [
       "\"c:\\\\Users\\\\Sam\\\\Desktop\\\\Research\\\\Graphite Data\\\\RHSbench.png\""
      ]
     },
     "metadata": {},
     "output_type": "display_data"
    }
   ],
   "source": [
    "# Store the benchmarks in a dictionary\n",
    "benchmarks_RHS = Dict(\n",
    "    \"RHS_mul_cache\" => RHS_mul_cache,\n",
    "    \"RHS_mul_alloc\" => RHS_mul_alloc,\n",
    "    \"RHS_elementwise\" => RHS_elementwise\n",
    ")\n",
    "\n",
    "# Extract the mean times and standard deviations\n",
    "mean_times = zeros(3); std_devs = zeros(3);\n",
    "k=1;\n",
    "for name in keys(benchmarks_RHS)\n",
    "    norm_fac = 1e9;\n",
    "    mean_times[k]=mean(benchmarks_RHS[name]).time/norm_fac\n",
    "    std_devs[k]=std(benchmarks_RHS[name]).time/norm_fac\n",
    "    k +=1;\n",
    "end\n",
    "\n",
    "# Create the plot\n",
    "RHSbench = bar(collect(keys(benchmarks_RHS)), mean_times, ylabel=\"Time (s)\", yaxis=:log,\n",
    "legend=false,color=[:maroon,:grey,:navy],grid=false,yticks=[1e-5,1e-4,1e-3],ylim=[1e-5,1e-3])#,yticks=[0,50,100,150,200,250,300,350],size=(1200,800))\n",
    "savefig(\"RHSbench.png\")"
   ]
  },
  {
   "cell_type": "code",
   "execution_count": 8,
   "metadata": {},
   "outputs": [],
   "source": [
    "jac_sparsity_cache = Symbolics.jacobian_sparsity((du, u) -> GCH_2D_mul_cache!(du,u,p,0),dc0,c0);\n",
    "colorvec_cache = matrix_colors(jac_sparsity_cache);\n",
    "f_cache = ODEFunction(GCH_2D_mul_cache!;jac_prototype=jac_sparsity_cache,colorvec=colorvec_cache);\n",
    "sparse_prob_cache = ODEProblem(f_cache,c0,tspan,p);"
   ]
  },
  {
   "cell_type": "code",
   "execution_count": 11,
   "metadata": {},
   "outputs": [
    {
     "data": {
      "text/plain": [
       "retcode: Success\n",
       "Interpolation: 3rd order Hermite\n",
       "t: 321-element Vector{Float64}:\n",
       " 0.0\n",
       " 5.9546317043980725e-5\n",
       " 0.00011909263408796145\n",
       " 0.00023921103516645566\n",
       " 0.00035932943624494986\n",
       " 0.0005806844498297175\n",
       " 0.0008020394634144851\n",
       " 0.0010233944769992528\n",
       " 0.0012447494905840203\n",
       " 0.0014661045041687879\n",
       " ⋮\n",
       " 4.635816628103401\n",
       " 4.72426708781937\n",
       " 4.812717547535339\n",
       " 4.834830162464331\n",
       " 4.856942777393323\n",
       " 4.890140956105591\n",
       " 4.923339134817859\n",
       " 4.956537313530126\n",
       " 5.0\n",
       "u: 321-element Vector{Matrix{Float64}}:\n",
       " [0.5366764007515327 0.5266191080804261 … 0.5196974003625441 0.48205874045476527; 0.5393540439034791 0.5207173918583038 … 0.5137379599142022 0.5019623321746877; … ; 0.49730611197552144 0.5231724683004547 … 0.4609671122718525 0.5482654878987233; 0.48832131235933357 0.5182400625963216 … 0.5194941341560293 0.45285736959836964]\n",
       " [0.5369698427911664 0.526402600119962 … 0.5185881297729997 0.48373147177401965; 0.538420452305937 0.5220816861874418 … 0.513261690095814 0.5020536994781607; … ; 0.49798589385614256 0.5231965791848423 … 0.46491640555920755 0.5428757389641524; 0.4891085210521043 0.5175762467107587 … 0.5146902028438844 0.45886452878393474]\n",
       " [0.5371680928836478 0.5262952279446957 … 0.5175287302001316 0.4852962277716508; 0.5376763295103518 0.5232433783430546 … 0.512829936734591 0.5021384297296223; … ; 0.49867543777352125 0.5231392022447756 … 0.4683915210214255 0.538067635187599; 0.48985669411029986 0.5170032920263434 … 0.5105701156080276 0.46408572787145524]\n",
       " [0.5373857644064812 0.526298702364826 … 0.5155342591437988 0.48817860227206333; 0.5365864951439226 0.5251368921271146 … 0.5120499336920599 0.502301330489694; … ; 0.5000685195674599 0.522850868987667 … 0.47431900874951993 0.5297119195467078; 0.4912892486773595 0.5160403573577564 … 0.503809607033171 0.472821672198596]\n",
       " [0.5374334641486229 0.5265203765537027 … 0.5137281335586578 0.49072597105060023; 0.5359368970558689 0.5265368529389161 … 0.5113646296039478 0.5024589073110056; … ; 0.5014417639696509 0.5223832706788439 … 0.4790291850796405 0.5228822085628209; 0.4926451806924941 0.5152806735781356 … 0.4987774219960506 0.4795426535404695]\n",
       " [0.5373572295225797 0.5272182736602755 … 0.5109313963094915 0.4945959936232832; 0.5355151968482891 0.5281767243621399 … 0.5102645037984216 0.5027475852439078; … ; 0.5038061943719399 0.5212408376461136 … 0.4852372364629763 0.5134766272435649; 0.49502336937962493 0.5142287489375692 … 0.49291608256185165 0.48789121909129207]\n",
       " [0.5372499098483159 0.5280823644899653 … 0.5087551893903878 0.49756625388002484; 0.5357474421368076 0.5289598226291701 … 0.5093087701106558 0.5030320253800892; … ; 0.5059094367026069 0.5198969896348132 … 0.4890744256059926 0.5071839632754607; 0.4972910834602706 0.5134721461177834 … 0.49023707242534265 0.4924326768042656]\n",
       " [0.5372660518746544 0.5289227814167689 … 0.5071037612333605 0.4998337585640122; 0.5362888634537873 0.5292488938346968 … 0.5084405914280092 0.5033018945343085; … ; 0.5077190200775006 0.5185102909548743 … 0.49139959178641845 0.5029540391405999; 0.49947821594321856 0.5128652958990851 … 0.4894666688518802 0.4946382644082943]\n",
       " [0.537460083136643 0.529649833196945 … 0.5058721565332828 0.5015698939467115; 0.5369310299826782 0.5292774274644934 … 0.5076357619156843 0.5035412072446621; … ; 0.5092388631042795 0.5171734401054391 … 0.49280250607124254 0.5000492882964064; 0.5015819636225761 0.5123306355564881 … 0.4897422655699752 0.4955151613616446]\n",
       " [0.5378251768172886 0.5302391991571324 … 0.50496378897555 0.5029102721763158; 0.5375653736495982 0.5291807253280819 … 0.5068881327454631 0.503735988155631; … ; 0.5104936395208283 0.5159313431116264 … 0.49365510000320245 0.49799146498735264; 0.5035840102474517 0.5118361264214775 … 0.4905324849431984 0.49569119088329194]\n",
       " ⋮\n",
       " [0.9298481832673566 0.9275868210404162 … 0.9361397593725707 0.9370019150511526; 0.929721547853033 0.9273730001601189 … 0.9360557815457015 0.937091929611497; … ; 0.06168711691132369 0.06319586400072817 … 0.06495737954209646 0.06509326866786247; 0.06093588453745478 0.06184698727000465 … 0.06446883028941143 0.06464123686671437]\n",
       " [0.9296967907834284 0.927344940942989 … 0.9363013267577006 0.9371720156018437; 0.9295712026157782 0.9271313203225698 … 0.9361819665310582 0.9372441741194064; … ; 0.06167471705333608 0.06338899821116242 … 0.06485614255055999 0.06498867934885157; 0.06080320090799175 0.06183004520059202 … 0.06435018072855965 0.06452357490574225]\n",
       " [0.9295028748350825 0.9270676563169293 … 0.9364436911962287 0.9373334709512933; 0.9293783477351006 0.9268543348684382 … 0.9362861896648679 0.937389306586696; … ; 0.06165650970910119 0.06361798759866219 … 0.06473080011056612 0.06486530933381632; 0.06063955319843954 0.06181190373179498 … 0.06420291820776668 0.0643828767722488]\n",
       " [0.9294862358181658 0.9270294477003421 … 0.936487935381585 0.9373892665873186; 0.9293615819117441 0.9268159377850256 … 0.9363101701483793 0.9374280843276904; … ; 0.06168680045902649 0.06372580818947111 … 0.06468014495123764 0.06481043372918031; 0.06062617131044383 0.061850924987229196 … 0.06413834290375713 0.06431911596731085]\n",
       " [0.9295031719745894 0.9270206232417654 … 0.9365125386941283 0.9374238545215012; 0.9293780149472941 0.9268067749883102 … 0.9363234074950314 0.9374561618529047; … ; 0.061752695963790585 0.06385889802523828 … 0.06465322674510718 0.0647651291875769; 0.06066440373712144 0.06192549381204293 … 0.06409685535256848 0.06426036133224113]\n",
       " [0.9295469810054066 0.9270219409965252 … 0.936541713669259 0.9374708704125482; 0.9294211392219257 0.9268076877616834 … 0.9363425539080933 0.9375021197577867; … ; 0.06181727184696084 0.06403537102141402 … 0.0646704225488067 0.0647882030758349; 0.06066776111087132 0.061991057502676826 … 0.06410414226216542 0.0642775441536594]\n",
       " [0.9295631095200272 0.9269972157270501 … 0.9365871112224199 0.9375235153927921; 0.92943712566523 0.9267827843198234 … 0.9363667482801494 0.9375422702822857; … ; 0.06185063002781698 0.06418579330509504 … 0.06467757618483902 0.0647959609421012; 0.06063523444739873 0.06202369783405244 … 0.06410746568615608 0.06428256282374695]\n",
       " [0.929527987905397 0.9269258603195664 … 0.9366454182632878 0.9375965951256783; 0.9294023531758459 0.9267115063276727 … 0.936406963939097 0.9376055154912419; … ; 0.06186890042599047 0.06433106728423724 … 0.06464790700604807 0.06477002848069917; 0.060570469957494544 0.0620339396310803 … 0.06406456998762747 0.06424821221985141]\n",
       " [0.9294244820860346 0.926780623146282 … 0.9367307063039602 0.9377022817763601; 0.9292997199491506 0.9265665493649937 … 0.9364605179507911 0.9376931147639133; … ; 0.06191462545016647 0.06455169100026914 … 0.06455841034288785 0.0646722950428481; 0.060507188747907746 0.06207260384277885 … 0.06395356170700586 0.06413047850577545]"
      ]
     },
     "metadata": {},
     "output_type": "display_data"
    }
   ],
   "source": [
    "solve(sparse_prob_cache,CVODE_BDF(linear_solver=:GMRES))"
   ]
  },
  {
   "cell_type": "code",
   "execution_count": 11,
   "metadata": {},
   "outputs": [],
   "source": [
    "jac_sparsity_mul_slow = Symbolics.jacobian_sparsity((du, u) -> GCH_2D_mul_slow!(du,u,p,0),dc0,c0);\n",
    "colorvec_mul_slow = matrix_colors(jac_sparsity_mul_slow);\n",
    "f_mul_slow = ODEFunction(GCH_2D_mul_slow!;jac_prototype=jac_sparsity_mul_slow,colorvec=colorvec_mul_slow);\n",
    "sparse_prob_mul_slow = ODEProblem(f_mul_slow,c0,tspan,p);"
   ]
  },
  {
   "cell_type": "code",
   "execution_count": 12,
   "metadata": {},
   "outputs": [],
   "source": [
    "jac_sparsity_element = Symbolics.jacobian_sparsity((du, u) -> GCH_2D_element!(du,u,p,0),dc0,c0);\n",
    "colorvec_element = matrix_colors(jac_sparsity_element);\n",
    "f_element = ODEFunction(GCH_2D_element!;jac_prototype=jac_sparsity_element,colorvec=colorvec_element);\n",
    "sparse_prob_element = ODEProblem(f_element,c0,tspan,p);"
   ]
  },
  {
   "cell_type": "code",
   "execution_count": 95,
   "metadata": {},
   "outputs": [
    {
     "data": {
      "text/plain": [
       "Dict{Any, Any} with 13 entries:\n",
       "  \"ESERK5\"                   => Any[Trial(426.843 ms), Trial(6.136 s)]\n",
       "  \"Rosenbrock23_KrylovGMRES\" => Any[Trial(1.008 s), Trial(8.858 s)]\n",
       "  \"TRBDF2\"                   => Any[Trial(447.465 ms), Trial(1.025 s)]\n",
       "  \"SERK2\"                    => Any[Trial(268.553 ms), Trial(3.841 s)]\n",
       "  \"KenCarp4_KrylovGMRES\"     => Any[Trial(846.181 ms), Trial(7.700 s)]\n",
       "  \"TRBDF2_KrylovGMRES\"       => Any[Trial(2.291 s), Trial(17.474 s)]\n",
       "  \"Rosenbrock23\"             => Any[Trial(500.574 ms), Trial(1.012 s)]\n",
       "  \"ROCK4\"                    => Any[Trial(167.145 ms), Trial(2.356 s)]\n",
       "  \"KenCarp4\"                 => Any[Trial(643.835 ms), Trial(1.720 s)]\n",
       "  \"ROCK2\"                    => Any[Trial(118.028 ms), Trial(1.744 s)]\n",
       "  \"RKC\"                      => Any[Trial(1.973 s), Trial(28.979 s)]\n",
       "  \"CVODE_BDF\"                => Any[Trial(62.051 s), Trial(9.443 s)]\n",
       "  \"CVODE_BDF_KrylovGMRES\"    => Any[Trial(72.847 ms), Trial(718.586 ms)]"
      ]
     },
     "metadata": {},
     "output_type": "display_data"
    }
   ],
   "source": [
    "function solver_to_string(solver)\n",
    "    str = string(solver)  # Convert the solver function to a string\n",
    "    idx = findfirst(\"{\", str)  # Find the index of the first \"{\"\n",
    "    idx2 = findfirst(\"Krylov\",str)\n",
    "    idx3 = findfirst(\"GMRES\",str)\n",
    "    if idx !== nothing  # Check if \"{\" was found\n",
    "        str = str[1:prevind(str, first(idx))]  # Cut off the string at the position before \"{\"\n",
    "    end\n",
    "    if idx2 !== nothing || idx3 !==nothing\n",
    "        str *= \"_KrylovGMRES\"\n",
    "    end\n",
    "    return str\n",
    "end\n",
    "\n",
    "\n",
    "# Define the solvers\n",
    "solvers = [\n",
    "    ROCK2(),\n",
    "    ROCK4(),\n",
    "    RKC(),\n",
    "    SERK2(),\n",
    "    ESERK5(),\n",
    "    TRBDF2(),\n",
    "    KenCarp4(),\n",
    "    Rosenbrock23(),\n",
    "    CVODE_BDF(),\n",
    "    CVODE_BDF(linear_solver=:GMRES),\n",
    "    TRBDF2(linsolve = KrylovJL_GMRES()),\n",
    "    KenCarp4(linsolve = KrylovJL_GMRES()),\n",
    "    Rosenbrock23(linsolve = KrylovJL_GMRES())\n",
    "]\n",
    "\n",
    "# Define the problems\n",
    "problems = [\n",
    "    sparse_prob_cache, \n",
    "    sparse_prob_element\n",
    "]\n",
    "\n",
    "# Initialize the dictionary to store benchmarks\n",
    "benchmarks = Dict()\n",
    "\n",
    "#Benchmark each solver for each problem\n",
    "for solver in solvers\n",
    "    # Initialize an empty vector for the solver\n",
    "    benchmarks[solver_to_string(solver)] = []\n",
    "    for prob in problems\n",
    "        # Benchmark the solve function\n",
    "        println(\"Benchmarking problem $(prob) with solver $(solver_to_string(solver))\")\n",
    "        benchmark_result = @benchmark solve($prob, $solver, save_everystep=false) samples =100\n",
    "        \n",
    "        # Append the benchmark result to the vector\n",
    "        push!(benchmarks[solver_to_string(solver)], benchmark_result)\n",
    "    end\n",
    "end\n",
    "\n",
    "benchmarks  # This will display the benchmarks dictionary"
   ]
  },
  {
   "cell_type": "code",
   "execution_count": 102,
   "metadata": {},
   "outputs": [
    {
     "data": {
      "text/plain": [
       "\"c:\\\\Users\\\\Sam\\\\Desktop\\\\Research\\\\Graphite Data\\\\simbench.png\""
      ]
     },
     "metadata": {},
     "output_type": "display_data"
    }
   ],
   "source": [
    "using Plots.PlotMeasures\n",
    "# Extract the solver names\n",
    "solver_names = collect(keys(benchmarks))\n",
    "\n",
    "\n",
    "# Extract the mean times and standard deviations for each solver and problem\n",
    "mean_times = [[mean(bench).time / 1e9 for bench in benchmarks[solver_name]] for solver_name in solver_names]  # Convert to milliseconds\n",
    "std_devs = [[std(bench).time / 1e9 for bench in benchmarks[solver_name]] for solver_name in solver_names]  # Convert to milliseconds\n",
    "\n",
    "# Define the problem names\n",
    "problem_names = [\"Cached Matmul\", \"Elementwise\"]\n",
    "\n",
    "# Repeat the problem names for each solver\n",
    "group_names = repeat(problem_names, length(solver_names))\n",
    "\n",
    "# Flatten the mean_times and std_devs for plotting\n",
    "mean_times_flat = vcat(mean_times...)\n",
    "std_devs_flat = vcat(std_devs...)\n",
    "solver_names = replace.(solver_names, \"_KrylovGMRES\" => \"\\nKrylov\")\n",
    "solver_names = replace.(solver_names, \"Rosenbrock23\" => \"Rbrock23\")\n",
    "solver_names = replace.(solver_names, \"CVODE_BDF\" => \"CVODE\\nBDF\")\n",
    "solver_names = replace.(solver_names, \"KenCarp4\" => \"KCarp4\")\n",
    "# Create the grouped bar plot\n",
    "grpbar = groupedbar(repeat(solver_names, inner=length(problems)), mean_times_flat, yerr=std_devs_flat, group = group_names,\n",
    "bar_width = 0.67, framestyle = :box,size=(900,600),yaxis=:log, legend = :topright,c = [:maroon :grey],grid=false,left_margin=4mm,yticks=[1e-2,1e-1,1e0,1e1,1e2],ylim=[1e-2,1e2])\n",
    "ylabel!(\"Time (s)\")\n",
    "savefig(\"simbench.png\")"
   ]
  }
 ],
 "metadata": {
  "kernelspec": {
   "display_name": "Julia 1.8.5",
   "language": "julia",
   "name": "julia-1.8"
  },
  "language_info": {
   "file_extension": ".jl",
   "mimetype": "application/julia",
   "name": "julia",
   "version": "1.8.5"
  },
  "orig_nbformat": 4
 },
 "nbformat": 4,
 "nbformat_minor": 2
}
