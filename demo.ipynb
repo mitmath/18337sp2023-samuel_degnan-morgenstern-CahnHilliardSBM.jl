{
 "cells": [
  {
   "cell_type": "code",
   "execution_count": 70,
   "metadata": {},
   "outputs": [
    {
     "name": "stderr",
     "output_type": "stream",
     "text": [
      "\u001b[32m\u001b[1m  Activating\u001b[22m\u001b[39m project at `c:\\Users\\Sam\\Desktop\\Classes\\CahnHilliardSim\\CahnHilliardSBM.jl`\n"
     ]
    }
   ],
   "source": [
    "include(\".//src//CahnHilliardSBM.jl\")"
   ]
  },
  {
   "cell_type": "code",
   "execution_count": 60,
   "metadata": {},
   "outputs": [],
   "source": [
    "ψ = loadfile(\".\\\\masks\\\\beanmask40.csv\");\n",
    "ψ_binary = loadfile(\".\\\\masks\\\\beanmask40_b.csv\");\n",
    "c0 = loadfile(\".\\\\initcond\\\\bean40_c0.csv\");"
   ]
  },
  {
   "cell_type": "code",
   "execution_count": 61,
   "metadata": {},
   "outputs": [],
   "source": [
    "Nx,Ny=size(ψ_binary)\n",
    "D = 0.1\n",
    "κ = 0.001\n",
    "Ω = 2.5\n",
    "p=(D,κ,Ω)\n",
    "simtok=SimTokenCPU(ψ,ψ_binary,c0,0,0.1,p,100);"
   ]
  },
  {
   "cell_type": "code",
   "execution_count": 64,
   "metadata": {},
   "outputs": [],
   "source": [
    "x,y,rhsfunc =setup_CH(ψ);"
   ]
  },
  {
   "cell_type": "code",
   "execution_count": 65,
   "metadata": {},
   "outputs": [],
   "source": [
    "dc0=similar(c0)\n",
    "rhsfunc(dc0,c0,p,0)"
   ]
  },
  {
   "cell_type": "code",
   "execution_count": 68,
   "metadata": {},
   "outputs": [
    {
     "name": "stderr",
     "output_type": "stream",
     "text": [
      "\n",
      "[CVODES WARNING]  CVode\n",
      "  Internal t = 0.0113905 and h = 7.01589e-019 are such that t + h = t on the next step. The solver will continue anyway.\n",
      "\n",
      "\n",
      "[CVODES WARNING]  CVode\n",
      "  Internal t = 0.0113905 and h = 7.01589e-019 are such that t + h = t on the next step. The solver will continue anyway.\n",
      "\n",
      "\n",
      "[CVODES WARNING]  CVode\n",
      "  Internal t = 0.0113905 and h = 7.01589e-019 are such that t + h = t on the next step. The solver will continue anyway.\n",
      "\n",
      "\n",
      "[CVODES WARNING]  CVode\n",
      "  Internal t = 0.0113905 and h = 7.01589e-019 are such that t + h = t on the next step. The solver will continue anyway.\n",
      "\n",
      "\n",
      "[CVODES WARNING]  CVode\n",
      "  Internal t = 0.0113905 and h = 7.01589e-019 are such that t + h = t on the next step. The solver will continue anyway.\n",
      "\n",
      "\n",
      "[CVODES WARNING]  CVode\n",
      "  Internal t = 0.0113905 and h = 7.01589e-019 are such that t + h = t on the next step. The solver will continue anyway.\n",
      "\n",
      "\n",
      "[CVODES WARNING]  CVode\n",
      "  Internal t = 0.0113905 and h = 7.01589e-019 are such that t + h = t on the next step. The solver will continue anyway.\n",
      "\n",
      "\n",
      "[CVODES WARNING]  CVode\n",
      "  Internal t = 0.0113905 and h = 7.01589e-019 are such that t + h = t on the next step. The solver will continue anyway.\n",
      "\n",
      "\n",
      "[CVODES WARNING]  CVode\n",
      "  Internal t = 0.0113905 and h = 7.01589e-019 are such that t + h = t on the next step. The solver will continue anyway.\n",
      "\n",
      "\n",
      "[CVODES WARNING]  CVode\n",
      "  Internal t = 0.0113905 and h = 7.01589e-019 are such that t + h = t on the next step. The solver will continue anyway.\n",
      "\n",
      "\n",
      "[CVODES WARNING]  CVode\n",
      "  The above warning has been issued mxhnil times and will not be issued again for this problem.\n",
      "\n",
      "\n",
      "[CVODES ERROR]  CVode\n",
      "  At t = 0.0113905 and h = 1.77777e-227, the corrector convergence test failed repeatedly or with |h| = hmin.\n",
      "\n"
     ]
    }
   ],
   "source": [
    "sim_sol=runsimCPU(simtok);"
   ]
  }
 ],
 "metadata": {
  "kernelspec": {
   "display_name": "Julia 1.8.5",
   "language": "julia",
   "name": "julia-1.8"
  },
  "language_info": {
   "file_extension": ".jl",
   "mimetype": "application/julia",
   "name": "julia",
   "version": "1.8.5"
  },
  "orig_nbformat": 4
 },
 "nbformat": 4,
 "nbformat_minor": 2
}
